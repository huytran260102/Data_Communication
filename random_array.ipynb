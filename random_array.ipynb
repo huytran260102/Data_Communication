{
 "cells": [
  {
   "cell_type": "code",
   "execution_count": null,
   "metadata": {
    "id": "LbnrF_HEbYx5",
    "tags": []
   },
   "outputs": [],
   "source": [
    "import matplotlib.pyplot as plt\n",
    "import numpy as np\n",
    "import cv2\n",
    "from scipy import signal\n",
    "from PIL import Image\n",
    "\n",
    "# lineCode\n",
    "from lineCoding import unrz_l\n",
    "from lineCoding import manchester"
   ]
  },
  {
   "cell_type": "code",
   "execution_count": null,
   "metadata": {
    "id": "Aa8wJ6g4blor"
   },
   "outputs": [],
   "source": [
    "from google.colab import drive\n",
    "drive.mount('/content/drive')"
   ]
  },
  {
   "cell_type": "code",
   "execution_count": null,
   "metadata": {
    "id": "e3Oh5PxeboRW"
   },
   "outputs": [],
   "source": [
    "%cd \"/content/drive/MyDrive/DataComm_Project\""
   ]
  },
  {
   "cell_type": "code",
   "execution_count": null,
   "metadata": {
    "id": "ZSOOZaTSbYyE",
    "tags": []
   },
   "outputs": [
    {
     "name": "stdout",
     "output_type": "stream",
     "text": [
      "(2, 2, 3)\n",
      "[[[ 97 160 126]\n",
      "  [249 235 251]]\n",
      "\n",
      " [[ 13 147 192]\n",
      "  [141 116 152]]]\n"
     ]
    }
   ],
   "source": [
    "# Source random\n",
    "img = np.random.randint(low=0, high=256, size=(2, 2, 3)).astype(np.uint8)\n",
    "x,y,z=img.shape[0], img.shape[1], img.shape[2]\n",
    "print(img.shape)\n",
    "print(img)"
   ]
  },
  {
   "cell_type": "code",
   "execution_count": 9,
   "metadata": {
    "id": "fDZtiJ1UbYyI",
    "tags": []
   },
   "outputs": [
    {
     "name": "stdout",
     "output_type": "stream",
     "text": [
      "(96,)\n",
      "[0 1 1 0 0 0 0 1 1 0 1 0 0 0 0 0 0 1 1 1 1 1 1 0 1 1 1 1 1 0 0 1 1 1 1 0 1\n",
      " 0 1 1 1 1 1 1 1 0 1 1 0 0 0 0 1 1 0 1 1 0 0 1 0 0 1 1 1 1 0 0 0 0 0 0 1 0\n",
      " 0 0 1 1 0 1 0 1 1 1 0 1 0 0 1 0 0 1 1 0 0 0]\n"
     ]
    }
   ],
   "source": [
    "# Format data\n",
    "binary_data = np.unpackbits(img, axis=2)\n",
    "bitstream = binary_data.ravel()\n",
    "print(bitstream.shape)\n",
    "print(bitstream)"
   ]
  },
  {
   "cell_type": "code",
   "execution_count": 11,
   "metadata": {
    "executionInfo": {
     "elapsed": 5,
     "status": "ok",
     "timestamp": 1679829089542,
     "user": {
      "displayName": "Nhan Dang",
      "userId": "07736876380898502818"
     },
     "user_tz": -420
    },
    "id": "5B1Jb8gfbYyJ",
    "tags": []
   },
   "outputs": [],
   "source": [
    "# prepare for encoding stage\n",
    "amplitude = 5\n",
    "t = 0.5\n",
    "sampling_rate = 10\n",
    "n = t*sampling_rate"
   ]
  },
  {
   "cell_type": "code",
   "execution_count": 12,
   "metadata": {
    "id": "isXKS-IFbYyK",
    "tags": []
   },
   "outputs": [
    {
     "name": "stdout",
     "output_type": "stream",
     "text": [
      "(480,)\n",
      "[0. 0. 0. 0. 0. 5. 5. 5. 5. 5. 5. 5. 5. 5. 5. 0. 0. 0. 0. 0. 0. 0. 0. 0.\n",
      " 0. 0. 0. 0. 0. 0. 0. 0. 0. 0. 0. 5. 5. 5. 5. 5. 5. 5. 5. 5. 5. 0. 0. 0.\n",
      " 0. 0. 5. 5. 5. 5. 5. 0. 0. 0. 0. 0. 0. 0. 0. 0. 0. 0. 0. 0. 0. 0. 0. 0.\n",
      " 0. 0. 0. 0. 0. 0. 0. 0. 0. 0. 0. 0. 0. 5. 5. 5. 5. 5. 5. 5. 5. 5. 5. 5.\n",
      " 5. 5. 5. 5. 5. 5. 5. 5. 5. 5. 5. 5. 5. 5. 5. 5. 5. 5. 5. 0. 0. 0. 0. 0.\n",
      " 5. 5. 5. 5. 5. 5. 5. 5. 5. 5. 5. 5. 5. 5. 5. 5. 5. 5. 5. 5. 5. 5. 5. 5.\n",
      " 5. 0. 0. 0. 0. 0. 0. 0. 0. 0. 0. 5. 5. 5. 5. 5. 5. 5. 5. 5. 5. 5. 5. 5.\n",
      " 5. 5. 5. 5. 5. 5. 5. 0. 0. 0. 0. 0. 5. 5. 5. 5. 5. 0. 0. 0. 0. 0. 5. 5.\n",
      " 5. 5. 5. 5. 5. 5. 5. 5. 5. 5. 5. 5. 5. 5. 5. 5. 5. 5. 5. 5. 5. 5. 5. 5.\n",
      " 5. 5. 5. 5. 5. 5. 5. 5. 5. 0. 0. 0. 0. 0. 5. 5. 5. 5. 5. 5. 5. 5. 5. 5.\n",
      " 0. 0. 0. 0. 0. 0. 0. 0. 0. 0. 0. 0. 0. 0. 0. 0. 0. 0. 0. 0. 5. 5. 5. 5.\n",
      " 5. 5. 5. 5. 5. 5. 0. 0. 0. 0. 0. 5. 5. 5. 5. 5. 5. 5. 5. 5. 5. 0. 0. 0.\n",
      " 0. 0. 0. 0. 0. 0. 0. 5. 5. 5. 5. 5. 0. 0. 0. 0. 0. 0. 0. 0. 0. 0. 5. 5.\n",
      " 5. 5. 5. 5. 5. 5. 5. 5. 5. 5. 5. 5. 5. 5. 5. 5. 5. 5. 0. 0. 0. 0. 0. 0.\n",
      " 0. 0. 0. 0. 0. 0. 0. 0. 0. 0. 0. 0. 0. 0. 0. 0. 0. 0. 0. 0. 0. 0. 0. 0.\n",
      " 5. 5. 5. 5. 5. 0. 0. 0. 0. 0. 0. 0. 0. 0. 0. 0. 0. 0. 0. 0. 5. 5. 5. 5.\n",
      " 5. 5. 5. 5. 5. 5. 0. 0. 0. 0. 0. 5. 5. 5. 5. 5. 0. 0. 0. 0. 0. 5. 5. 5.\n",
      " 5. 5. 5. 5. 5. 5. 5. 5. 5. 5. 5. 5. 0. 0. 0. 0. 0. 5. 5. 5. 5. 5. 0. 0.\n",
      " 0. 0. 0. 0. 0. 0. 0. 0. 5. 5. 5. 5. 5. 0. 0. 0. 0. 0. 0. 0. 0. 0. 0. 5.\n",
      " 5. 5. 5. 5. 5. 5. 5. 5. 5. 0. 0. 0. 0. 0. 0. 0. 0. 0. 0. 0. 0. 0. 0. 0.]\n"
     ]
    }
   ],
   "source": [
    "# encode using uniporlar non-return to zero\n",
    "signal = unrz_l.encode(bitstream, amplitude, n) \n",
    "print(signal.shape)\n",
    "print(signal)"
   ]
  },
  {
   "cell_type": "code",
   "execution_count": null,
   "metadata": {
    "id": "tySPUVmHbYyL",
    "tags": []
   },
   "outputs": [],
   "source": [
    "# plot signal after urnz encode \n",
    "unrz_l.draw_signal(signal, amplitude, t, sampling_rate)\n",
    "print(bitstream)"
   ]
  },
  {
   "cell_type": "code",
   "execution_count": null,
   "metadata": {
    "id": "p-9KBcbsbYyN",
    "tags": []
   },
   "outputs": [],
   "source": [
    "# decode unrz_l\n",
    "decode = unrz_l.decode(signal, n)\n",
    "print(decode.shape)\n",
    "print(decode)"
   ]
  },
  {
   "cell_type": "code",
   "execution_count": null,
   "metadata": {
    "executionInfo": {
     "elapsed": 707,
     "status": "ok",
     "timestamp": 1679829188620,
     "user": {
      "displayName": "Nhan Dang",
      "userId": "07736876380898502818"
     },
     "user_tz": -420
    },
    "id": "nMmB3rJObYyO",
    "tags": []
   },
   "outputs": [],
   "source": [
    "# convert 8 bits to 0-255 decimal\n",
    "decode_dec = np.packbits(decode).reshape((x,y,z))\n",
    "print(\"Result\\n\",decode_dec)\n",
    "print(\"-----------------------\")\n",
    "print(\"Origin data\\n\", img)"
   ]
  },
  {
   "cell_type": "code",
   "execution_count": null,
   "metadata": {
    "id": "3kOfAwMDllFl",
    "tags": []
   },
   "outputs": [],
   "source": [
    "# convert 3D array to image\n",
    "de_img = Image.fromarray(decode_dec)\n",
    "print(decode_dec.shape)\n",
    "\n",
    "# display the image\n",
    "plt.imshow(de_img)\n",
    "plt.show()"
   ]
  }
 ],
 "metadata": {
  "colab": {
   "provenance": []
  },
  "gpuClass": "standard",
  "kernelspec": {
   "display_name": "Python 3 (ipykernel)",
   "language": "python",
   "name": "python3"
  },
  "language_info": {
   "codemirror_mode": {
    "name": "ipython",
    "version": 3
   },
   "file_extension": ".py",
   "mimetype": "text/x-python",
   "name": "python",
   "nbconvert_exporter": "python",
   "pygments_lexer": "ipython3",
   "version": "3.9.10"
  }
 },
 "nbformat": 4,
 "nbformat_minor": 4
}
