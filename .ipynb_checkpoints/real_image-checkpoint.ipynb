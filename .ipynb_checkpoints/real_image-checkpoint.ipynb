{
 "cells": [
  {
   "cell_type": "code",
   "execution_count": null,
   "metadata": {
    "tags": []
   },
   "outputs": [],
   "source": [
    "import matplotlib.pyplot as plt\n",
    "import numpy as np\n",
    "import cv2\n",
    "from scipy import signal\n",
    "from PIL import Image\n",
    "\n",
    "# lineCode\n",
    "from lineCoding import unrz_l\n",
    "from lineCoding import manchester"
   ]
  },
  {
   "cell_type": "raw",
   "metadata": {},
   "source": [
    "TRANSMITTER"
   ]
  },
  {
   "cell_type": "code",
   "execution_count": null,
   "metadata": {
    "tags": []
   },
   "outputs": [],
   "source": [
    "# Source random\n",
    "img = np.random.randint(0, 256, size=(2, 2, 3)).astype(np.uint8)\n",
    "x,y,z=img.shape[0], img.shape[1], img.shape[2]\n",
    "print(img)"
   ]
  },
  {
   "cell_type": "code",
   "execution_count": 14,
   "metadata": {},
   "outputs": [],
   "source": [
    "# Source RGB\n",
    "img = cv2.imread(\"barcelona.jpg\", 1)\n",
    "x,y,z=img.shape[0], img.shape[1], img.shape[2]"
   ]
  },
  {
   "cell_type": "code",
   "execution_count": null,
   "metadata": {
    "tags": []
   },
   "outputs": [],
   "source": [
    "# Format data\n",
    "binary_data = np.unpackbits(img, axis=2)\n",
    "bitstream = binary_data.ravel()\n",
    "print(bitstream)"
   ]
  },
  {
   "cell_type": "code",
   "execution_count": null,
   "metadata": {},
   "outputs": [],
   "source": [
    "# prepare for encoding stage\n",
    "amplitude = 5\n",
    "t = 0.5\n",
    "sampling_rate = 10\n",
    "n = t*sampling_rate"
   ]
  },
  {
   "cell_type": "code",
   "execution_count": null,
   "metadata": {
    "tags": []
   },
   "outputs": [],
   "source": [
    "# encode using uniporlar non-return to zero\n",
    "signal = unrz_l.encode(bitstream, amplitude, n) \n",
    "print(signal)"
   ]
  },
  {
   "cell_type": "code",
   "execution_count": null,
   "metadata": {
    "tags": []
   },
   "outputs": [],
   "source": [
    "# plot signal after encode\n",
    "unrz_l.draw_signal(signal, amplitude, t, sampling_rate)\n",
    "print(bitstream)"
   ]
  },
  {
   "cell_type": "raw",
   "metadata": {},
   "source": [
    "RECIEVER"
   ]
  },
  {
   "cell_type": "code",
   "execution_count": null,
   "metadata": {
    "tags": []
   },
   "outputs": [],
   "source": [
    "# decode the unrz_l\n",
    "decode = unrz_l.decode(signal, n)\n",
    "print(decode)"
   ]
  },
  {
   "cell_type": "code",
   "execution_count": null,
   "metadata": {
    "tags": []
   },
   "outputs": [],
   "source": [
    "# convert 8 bits to 0-255 decimal\n",
    "decode_dec = np.packbits(decode).reshape((x,y,z))\n",
    "print(\"Result\\n\",decode_dec)\n",
    "print(\"-----------------------\")\n",
    "print(\"Origin data\\n\", img)"
   ]
  }
 ],
 "metadata": {
  "kernelspec": {
   "display_name": "Python 3 (ipykernel)",
   "language": "python",
   "name": "python3"
  },
  "language_info": {
   "codemirror_mode": {
    "name": "ipython",
    "version": 3
   },
   "file_extension": ".py",
   "mimetype": "text/x-python",
   "name": "python",
   "nbconvert_exporter": "python",
   "pygments_lexer": "ipython3",
   "version": "3.9.10"
  }
 },
 "nbformat": 4,
 "nbformat_minor": 4
}
